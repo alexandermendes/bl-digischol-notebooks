{
 "cells": [
  {
   "cell_type": "markdown",
   "metadata": {},
   "source": [
    "# Downloading files with Python\n",
    "\n",
    "This short tutorial explains how to download a file using Python. Specifically, we will be downloading a dataset from [data.bl.uk](https://data.bl.uk/), primarily so that we can use these datasets on some of our more complex tutorials.\n",
    "\n",
    "We will be using the [requests](http://docs.python-requests.org/en/master/) library, which provides methods for sending HTTP requests using Python. The library makes it easy to add content like form data, headers and URL parameters.\n",
    "\n",
    "This tutorial assumes some basic familiarity with Python and a command-line interface."
   ]
  },
  {
   "cell_type": "markdown",
   "metadata": {},
   "source": [
    "## Install the required libraries\n",
    "\n",
    "First, we need to install the following Python libraries:\n",
    "\n",
    "1. [requests](https://github.com/requests/requests) for sending our HTTP GET request.\n",
    "2. [tqdm](https://github.com/tqdm/tqdm) for displaying a progress bar while downloading the file.\n",
    "\n",
    "These libraries can be installed via PyPi, by opening up a terminal window and running the following commands:"
   ]
  },
  {
   "cell_type": "raw",
   "metadata": {},
   "source": [
    "pip install tqdm"
   ]
  },
  {
   "cell_type": "markdown",
   "metadata": {},
   "source": [
    "## Write the script\n",
    "\n",
    "TODO: Explain\n",
    "\n",
    "First, we import the required libraries for use in our application."
   ]
  },
  {
   "cell_type": "code",
   "execution_count": 3,
   "metadata": {},
   "outputs": [],
   "source": [
    "import os\n",
    "import tqdm\n",
    "import requests"
   ]
  },
  {
   "cell_type": "markdown",
   "metadata": {},
   "source": [
    "Declare some variables"
   ]
  },
  {
   "cell_type": "code",
   "execution_count": 8,
   "metadata": {},
   "outputs": [],
   "source": [
    "DATASET_URL = 'https://data.bl.uk/iad/iad-xml.zip'\n",
    "DATA_DIR = './data'"
   ]
  },
  {
   "cell_type": "markdown",
   "metadata": {},
   "source": [
    "Ensure that our downloads directory exists, creating it if necessary."
   ]
  },
  {
   "cell_type": "code",
   "execution_count": 9,
   "metadata": {},
   "outputs": [],
   "source": [
    "if not os.path.exists(DATA_DIR):\n",
    "    os.mkdir(DATA_DIR)"
   ]
  },
  {
   "cell_type": "markdown",
   "metadata": {},
   "source": [
    "Now we can download our dataset."
   ]
  },
  {
   "cell_type": "code",
   "execution_count": 17,
   "metadata": {},
   "outputs": [],
   "source": [
    "def download_dataset(url, directory):\n",
    "    download_fn = url.split('/')[-1]\n",
    "    download_path = os.path.join(directory, download_fn)\n",
    "    if not os.path.exists(download_path):\n",
    "        headers = {'User-agent': 'bl-digischol'}\n",
    "        r = requests.get(url, stream=True, headers=headers)\n",
    "        total_length = int(r.headers.get('Content-Length'))\n",
    "        total_size = (total_length/1024) + 1\n",
    "        with open(download_path, 'wb') as f:\n",
    "            for chunk in tqdm.tqdm(r.iter_content(chunk_size=1024), \n",
    "                                   total=total_size, \n",
    "                                   desc='Downloading', \n",
    "                                   unit='kb',\n",
    "                                   unit_scale=True, \n",
    "                                   miniters=1): \n",
    "                if chunk:\n",
    "                    f.write(chunk)\n",
    "\n",
    "download_dataset(DATASET_URL, DATA_DIR)"
   ]
  },
  {
   "cell_type": "code",
   "execution_count": null,
   "metadata": {},
   "outputs": [],
   "source": []
  }
 ],
 "metadata": {
  "kernelspec": {
   "display_name": "Python 2",
   "language": "python",
   "name": "python2"
  },
  "language_info": {
   "codemirror_mode": {
    "name": "ipython",
    "version": 2
   },
   "file_extension": ".py",
   "mimetype": "text/x-python",
   "name": "python",
   "nbconvert_exporter": "python",
   "pygments_lexer": "ipython2",
   "version": "2.7.12"
  }
 },
 "nbformat": 4,
 "nbformat_minor": 2
}
